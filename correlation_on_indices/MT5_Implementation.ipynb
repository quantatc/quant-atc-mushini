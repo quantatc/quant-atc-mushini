{
 "cells": [
  {
   "cell_type": "code",
   "execution_count": 1,
   "metadata": {},
   "outputs": [],
   "source": [
    "import pandas as pd\n",
    "import MetaTrader5 as mt5\n",
    "import numpy as np\n",
    "from datetime import datetime, timezone\n",
    "import traderMT5 as tr"
   ]
  },
  {
   "cell_type": "code",
   "execution_count": null,
   "metadata": {},
   "outputs": [],
   "source": [
    "symbols = ['US30', 'GER30', 'US100'] \n",
    "trader = tr.MT5Trader(symbols= symbols, lot_size = 0.3)\n"
   ]
  },
  {
   "cell_type": "code",
   "execution_count": null,
   "metadata": {},
   "outputs": [],
   "source": [
    "trader.execute_trades()\n",
    "#trader.execute_trades()"
   ]
  },
  {
   "cell_type": "code",
   "execution_count": null,
   "metadata": {},
   "outputs": [],
   "source": [
    "if not mt5.initialize(login=6095638, server=\"OANDA-OGM MT5 Demo\",password=\"QRnx3yw6L1\"):\n",
    "            print(\"initialize() failed, error code =\",mt5.last_error())\n",
    "            quit()\n",
    "current_account_info = mt5.account_info()\n",
    "print(\"------------------------------------------------------------------------------------------\")\n",
    "print(f\"Date: {datetime.now().strftime('%Y-%m-%d %H:%M:%S')}\")\n",
    "print(f\"Balance: {current_account_info.balance} USD,\\t\"\n",
    "    f\"Equity: {current_account_info.equity} USD, \\t\"\n",
    "      f\"Profit: {current_account_info.profit} USD\")\n",
    "print(\"-------------------------------------------------------------------------------------------\")"
   ]
  },
  {
   "cell_type": "code",
   "execution_count": null,
   "metadata": {},
   "outputs": [],
   "source": [
    "symbols = ['US30', 'GER30', 'US100'] \n",
    "start = datetime.now().strftime(\"%H:%M:%S\")#\"23:59:59\"\n",
    "while True:\n",
    "    # Launch the algorithm\n",
    "    # Verfication for launch\n",
    "    if datetime.now().weekday() not in (5,6):  \n",
    "        is_time = datetime.now().strftime(\"%H:%M:%S\") == start\n",
    "    else:\n",
    "        is_time = False\n",
    "\n",
    "    if is_time:\n",
    "        # Close all trades\n",
    "        trader = tr.MT5Trader(symbols= symbols, lot_size = 0.3)\n",
    "        #trader.data\n",
    "        trader.execute_trades()"
   ]
  },
  {
   "cell_type": "code",
   "execution_count": null,
   "metadata": {},
   "outputs": [],
   "source": [
    "mt5.shutdown()"
   ]
  }
 ],
 "metadata": {
  "kernelspec": {
   "display_name": "Python 3.9.9 64-bit",
   "language": "python",
   "name": "python3"
  },
  "language_info": {
   "codemirror_mode": {
    "name": "ipython",
    "version": 3
   },
   "file_extension": ".py",
   "mimetype": "text/x-python",
   "name": "python",
   "nbconvert_exporter": "python",
   "pygments_lexer": "ipython3",
   "version": "3.9.9"
  },
  "orig_nbformat": 4,
  "vscode": {
   "interpreter": {
    "hash": "6fff98fc3b3d81bd655c2cc48858186e4d9e2db7b515bf1c3221888f12a62f87"
   }
  }
 },
 "nbformat": 4,
 "nbformat_minor": 2
}
