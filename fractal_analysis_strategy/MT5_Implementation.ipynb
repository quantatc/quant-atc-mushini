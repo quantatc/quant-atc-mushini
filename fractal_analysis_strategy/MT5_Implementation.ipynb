{
 "cells": [
  {
   "cell_type": "code",
   "execution_count": null,
   "metadata": {},
   "outputs": [],
   "source": [
    "import pandas as pd\n",
    "import MetaTrader5 as mt5\n",
    "import numpy as np\n",
    "from datetime import datetime, timezone\n",
    "import traderMT5 as tr\n",
    "import time"
   ]
  },
  {
   "cell_type": "code",
   "execution_count": null,
   "metadata": {},
   "outputs": [],
   "source": [
    "symbols = ['EURUSD', 'AUDNZD', 'GBPNZD'] \n",
    "trader = tr.MT5Trader(symbols= symbols)\n"
   ]
  },
  {
   "cell_type": "code",
   "execution_count": null,
   "metadata": {},
   "outputs": [],
   "source": [
    "trader.execute_trades()\n",
    "#trader.execute_trades()"
   ]
  },
  {
   "cell_type": "code",
   "execution_count": null,
   "metadata": {},
   "outputs": [],
   "source": [
    "if not mt5.initialize(login=6095638, server=\"OANDA-OGM MT5 Demo\",password=\"QRnx3yw6L1\"):\n",
    "            print(\"initialize() failed, error code =\",mt5.last_error())\n",
    "            quit()\n",
    "current_account_info = mt5.account_info()\n",
    "print(\"------------------------------------------------------------------------------------------\")\n",
    "print(f\"Date: {datetime.now().strftime('%Y-%m-%d %H:%M:%S')}\")\n",
    "print(f\"Balance: {current_account_info.balance} USD,\\t\"\n",
    "    f\"Equity: {current_account_info.equity} USD, \\t\"\n",
    "      f\"Profit: {current_account_info.profit} USD\")\n",
    "print(\"-------------------------------------------------------------------------------------------\")"
   ]
  },
  {
   "cell_type": "code",
   "execution_count": null,
   "metadata": {},
   "outputs": [],
   "source": [
    "symbols = ['EURUSD', 'AUDNZD', 'GBPNZD'] \n",
    "last_action_timestamp = 0\n",
    "last_display_timestamp = 0\n",
    "\n",
    "trader = tr.MT5Trader(symbols= symbols, lot=1.1)\n",
    "\n",
    "while True:\n",
    "\n",
    "    # Launch the algorithm\n",
    "    current_timestamp = int(time.time())\n",
    "\n",
    "    if (current_timestamp - last_action_timestamp) > 60:\n",
    "\n",
    "        if datetime.now().weekday() not in (5,6):\n",
    "            \n",
    "            # Account Info\n",
    "            current_account_info = mt5.account_info()\n",
    "            print(\"------------------------------------------------------------------------------------------\")\n",
    "            print(f\"Date: {datetime.now().strftime('%Y-%m-%d %H:%M:%S')}\")\n",
    "            print(f\"Balance: {current_account_info.balance} USD,\\t\"\n",
    "                f\"Equity: {current_account_info.equity} USD, \\t\"\n",
    "                f\"Profit: {current_account_info.profit} USD\")\n",
    "            print(\"-------------------------------------------------------------------------------------------\")\n",
    "            \n",
    "            #trader = MT5Trader(symbols=symbols, lot_size=0.05)\n",
    "            # Close all trades\n",
    "            trader.execute_trades()\n",
    "\n",
    "        last_action_timestamp = int(time.time())"
   ]
  },
  {
   "cell_type": "code",
   "execution_count": null,
   "metadata": {},
   "outputs": [],
   "source": [
    "mt5.shutdown()"
   ]
  }
 ],
 "metadata": {
  "kernelspec": {
   "display_name": "Python 3.9.12 ('base')",
   "language": "python",
   "name": "python3"
  },
  "language_info": {
   "codemirror_mode": {
    "name": "ipython",
    "version": 3
   },
   "file_extension": ".py",
   "mimetype": "text/x-python",
   "name": "python",
   "nbconvert_exporter": "python",
   "pygments_lexer": "ipython3",
   "version": "3.9.12"
  },
  "orig_nbformat": 4,
  "vscode": {
   "interpreter": {
    "hash": "d7288e82646d3164eca24130947288f8779d11454649f2c02a5dfc42af7f324c"
   }
  }
 },
 "nbformat": 4,
 "nbformat_minor": 2
}
