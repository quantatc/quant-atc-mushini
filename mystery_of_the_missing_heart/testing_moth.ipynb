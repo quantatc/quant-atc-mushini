{
 "cells": [
  {
   "cell_type": "code",
   "execution_count": null,
   "metadata": {},
   "outputs": [],
   "source": [
    "from moth_mt5 import MysteryOfTheMissingHeart\n",
    "from datetime import datetime\n",
    "import time\n",
    "import MetaTrader5 as mt5"
   ]
  },
  {
   "cell_type": "code",
   "execution_count": null,
   "metadata": {},
   "outputs": [],
   "source": [
    "symbol = 'EURUSD'\n",
    "\n",
    "last_action_timestamp = 0\n",
    "last_display_timestamp = 0\n",
    "\n",
    "trader = MysteryOfTheMissingHeart(symbol, lot_size=0.01)"
   ]
  },
  {
   "cell_type": "code",
   "execution_count": null,
   "metadata": {},
   "outputs": [],
   "source": [
    "while True:\n",
    "        # Launch the algorithm\n",
    "        current_timestamp = int(time.time())\n",
    "        if (current_timestamp - last_action_timestamp) > 300: #changed to 60 from 3600\n",
    "            if datetime.now().weekday() not in (5,6):\n",
    "                # Account Info\n",
    "                current_account_info = mt5.account_info()\n",
    "                print(\"------------------------------------------------------------------------------------------\")\n",
    "                print(f\"Date: {datetime.now().strftime('%Y-%m-%d %H:%M:%S')}\")\n",
    "                print(f\"Balance: {current_account_info.balance} USD,\\t\"\n",
    "                    f\"Equity: {current_account_info.equity} USD, \\t\"\n",
    "                    f\"Profit: {current_account_info.profit} USD\")\n",
    "                print(\"-------------------------------------------------------------------------------------------\")\n",
    "                # Close all trades\n",
    "                trader.execute_trades()\n",
    "            last_action_timestamp = int(time.time())\n",
    "        \n",
    "        if (current_timestamp - last_display_timestamp) > 60:\n",
    "            trader.check_position(symbol=symbol)\n",
    "            last_display_timestamp = int(time.time())"
   ]
  }
 ],
 "metadata": {
  "kernelspec": {
   "display_name": "base",
   "language": "python",
   "name": "python3"
  },
  "language_info": {
   "codemirror_mode": {
    "name": "ipython",
    "version": 3
   },
   "file_extension": ".py",
   "mimetype": "text/x-python",
   "name": "python",
   "nbconvert_exporter": "python",
   "pygments_lexer": "ipython3",
   "version": "3.9.16"
  },
  "orig_nbformat": 4,
  "vscode": {
   "interpreter": {
    "hash": "df3e24eccf00355b0221a13367e97e9d2051d9a98e8f5d84047343b4cfd3fc0d"
   }
  }
 },
 "nbformat": 4,
 "nbformat_minor": 2
}
